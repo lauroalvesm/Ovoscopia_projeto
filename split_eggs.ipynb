{
 "cells": [
  {
   "cell_type": "code",
   "execution_count": null,
   "metadata": {},
   "outputs": [],
   "source": [
    "from PIL import Image\n",
    "from typing import List, Tuple\n",
    "import os"
   ]
  },
  {
   "cell_type": "code",
   "execution_count": null,
   "metadata": {},
   "outputs": [],
   "source": [
    "path_init1 = \"0 DIAS - FRESCOS/FOTOS BLUEBOX\"\n",
    "path1 = \"OVO_1\"\n",
    "\n",
    "path_init2 = \"7 DIAS/Fotos bluebox\"\n",
    "path2 = \"OVO_2\"\n",
    "\n",
    "path_init3 = \"14 DIAS/fotos bluebox (14 dias)\"\n",
    "path3 = \"OVO_3\"\n",
    "\n",
    "path_init4 = \"21 DIAS/fotos bluebox (21 dias)\"\n",
    "path4 = \"OVO_4\""
   ]
  },
  {
   "cell_type": "code",
   "execution_count": null,
   "metadata": {},
   "outputs": [],
   "source": [
    "ovos1 = list(filter(lambda x: x.find(\"IMG_00\")>= 0,os.listdir(path_init1)))\n",
    "ovos2 = list(filter(lambda x: x.find(\"IMG_9\")>= 0,os.listdir(path_init2)))\n",
    "ovos3 = list(filter(lambda x: x.find(\"IMG_8\")>= 0,os.listdir(path_init3)))\n",
    "ovos4 = list(filter(lambda x: x.find(\"IMG_9\")>= 0,os.listdir(path_init4)))"
   ]
  },
  {
   "cell_type": "code",
   "execution_count": null,
   "metadata": {},
   "outputs": [],
   "source": [
    "def crop(p_init: Tuple, p_last: Tuple, step: Tuple, w: int, flag=False):\n",
    "  h = 0\n",
    "  p1 = [0, 0]\n",
    "  p2 = [p_init[0]]\n",
    "  ovo = {}\n",
    "  for x in range(15):\n",
    "    if (x%3==0):\n",
    "      h += 1\n",
    "      p1[0] = p2[0]\n",
    "    p1[1] = p_init[1] + (step[1] * (x%3))\n",
    "    p2 = [p_last[0] + (step[0] * (h-1)), p_last[0] + (w * (x%3))]\n",
    "    \n",
    "    ovo[x+flag] = (p1[0], p1[1], p2[0], p2[1])\n",
    "  return ovo"
   ]
  },
  {
   "cell_type": "code",
   "execution_count": null,
   "metadata": {},
   "outputs": [],
   "source": [
    "def recorte(\n",
    "  lista: List, \n",
    "  path_imagens: str,\n",
    "  path_save: str,\n",
    "  p1: Tuple, \n",
    "  p2: Tuple, \n",
    "  step: Tuple, \n",
    "  width: int,\n",
    "  init_n: int = 0,\n",
    "  ):\n",
    "  for i, l in enumerate(lista):\n",
    "    img = Image.open(f\"{path_imagens}/{l}\")\n",
    "    corte = crop(p1, p2, step, width)\n",
    "    for x in range((15*(i+1))-15, 15*(i+1)):\n",
    "      ovo = img.crop(corte[x%15])\n",
    "      ovo.save(f\"{path_save}/{x+1+init_n}.jpg\")\n",
    " "
   ]
  },
  {
   "cell_type": "code",
   "execution_count": null,
   "metadata": {},
   "outputs": [],
   "source": [
    "p_init = (300, 200)\n",
    "p_last = (1000, 1000)\n",
    "p_step = (700, 800)     \n",
    "recorte(ovos1, path_init1, path1, p_init, p_last, p_step, width=1000)"
   ]
  },
  {
   "cell_type": "code",
   "execution_count": null,
   "metadata": {},
   "outputs": [],
   "source": [
    "p_init = (100, 100)\n",
    "p_last = (500, 500)\n",
    "p_step = (350, 450)     \n",
    "recorte(ovos2, path_init2, path2, p_init, p_last, p_step, width=500, init_n=200)"
   ]
  },
  {
   "cell_type": "code",
   "execution_count": null,
   "metadata": {},
   "outputs": [],
   "source": [
    "p_init = (250, 0)\n",
    "p_last = (1000, 1000)\n",
    "p_step = (700, 1050)     \n",
    "recorte(ovos3, path_init3, path3, p_init, p_last, p_step, width=900, init_n=400)"
   ]
  },
  {
   "cell_type": "code",
   "execution_count": null,
   "metadata": {},
   "outputs": [],
   "source": [
    "p_init = (150, 100)\n",
    "p_last = (500, 500)\n",
    "p_step = (350, 450)      \n",
    "recorte(ovos4, path_init4, path4, p_init, p_last, p_step, width=500, init_n=600)"
   ]
  },
  {
   "attachments": {},
   "cell_type": "markdown",
   "metadata": {},
   "source": [
    "# TESTE DE CORTE"
   ]
  },
  {
   "cell_type": "code",
   "execution_count": null,
   "metadata": {},
   "outputs": [],
   "source": [
    "img = Image.open(f\"{path_init4}/t.jpeg\")"
   ]
  },
  {
   "cell_type": "code",
   "execution_count": null,
   "metadata": {},
   "outputs": [],
   "source": [
    "p_init = (150, 100)\n",
    "p_last = (500, 500)\n",
    "p_step = (350, 450)     \n",
    "ovo = crop(p_init, p_last, p_step, 500, True)\n",
    "ovo"
   ]
  },
  {
   "cell_type": "code",
   "execution_count": null,
   "metadata": {},
   "outputs": [],
   "source": [
    "h = 1"
   ]
  },
  {
   "cell_type": "code",
   "execution_count": null,
   "metadata": {},
   "outputs": [],
   "source": [
    "image = img.crop(ovo[h])\n",
    "h += 1\n",
    "print(h-1)\n",
    "image"
   ]
  },
  {
   "cell_type": "code",
   "execution_count": null,
   "metadata": {},
   "outputs": [],
   "source": [
    "image = img.crop((500, 500, 1000, 1000))\n",
    "image"
   ]
  }
 ],
 "metadata": {
  "kernelspec": {
   "display_name": "ovo",
   "language": "python",
   "name": "python3"
  },
  "language_info": {
   "codemirror_mode": {
    "name": "ipython",
    "version": 3
   },
   "file_extension": ".py",
   "mimetype": "text/x-python",
   "name": "python",
   "nbconvert_exporter": "python",
   "pygments_lexer": "ipython3",
   "version": "3.11.3"
  },
  "orig_nbformat": 4
 },
 "nbformat": 4,
 "nbformat_minor": 2
}
